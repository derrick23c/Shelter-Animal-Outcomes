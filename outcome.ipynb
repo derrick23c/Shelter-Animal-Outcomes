{
 "cells": [
  {
   "cell_type": "code",
   "execution_count": null,
   "metadata": {},
   "outputs": [],
   "source": [
    "import numpy as np\n",
    "import pandas as pd\n",
    "import matplotlib.pyplot as plt\n",
    "from sklearn.preprocessing import StandardScaler\n",
    "from sklearn.preprocessing import MinMaxScaler\n",
    "from sklearn.preprocessing import LabelEncoder\n",
    "from sklearn.preprocessing import OneHotEncoder\n",
    "\n",
    "data = pd.read_csv(\"/Users/derri/Onedrive/ml/train2_outcome.csv\")\n",
    "data = data.drop(columns=['AnimalID','Aggressive', 'At Vet', 'Barn', 'Behavior',\n",
    "       'Court/Investigation', 'Enroute', 'Foster', 'In Foster', 'In Kennel',\n",
    "       'In Surgery', 'Medical', 'Offsite', 'Partner', 'Rabies Risk', 'SCRP',\n",
    "       'Suffering','BreedName','color','agenumber', 'ageperiod', 'age','Target'])\n",
    "\n",
    "from sklearn.model_selection import train_test_split\n",
    "X=data.values[:,0:312]\n",
    "Y=data['outcome'].values\n",
    "X_train, X_test, Y_train, Y_test = train_test_split(X, Y, test_size=0.3, random_state=0)\n",
    "\n",
    "from sklearn.tree import DecisionTreeClassifier\n",
    "from sklearn.metrics import accuracy_score\n",
    "from sklearn.metrics import classification_report\n",
    "from sklearn.metrics import confusion_matrix\n",
    "import seaborn as sns\n",
    "import matplotlib.pyplot as plt"
   ]
  },
  {
   "cell_type": "code",
   "execution_count": null,
   "metadata": {},
   "outputs": [],
   "source": [
    "import tensorflow as ts"
   ]
  },
  {
   "cell_type": "code",
   "execution_count": null,
   "metadata": {},
   "outputs": [],
   "source": [
    "from sklearn.model_selection import GridSearchCV"
   ]
  },
  {
   "cell_type": "code",
   "execution_count": null,
   "metadata": {},
   "outputs": [],
   "source": [
    "#Grid Search\n",
    "\n",
    "tree_para = {'criterion':['gini','entropy'],'max_depth':[1,2,3,4,5,6,7,8,9,10,11,12,15,20,30,40,50,70,80,90,100,110,120,130,140,150],\n",
    "             'min_samples_leaf':[1,2,3,4,5,6,7,8,9,10,11,12,13,14,15,16,17,19,20]}\n",
    "\n",
    "# the best criterion is entropy, max_depth=7, min_samples_leaf=19"
   ]
  },
  {
   "cell_type": "code",
   "execution_count": null,
   "metadata": {},
   "outputs": [],
   "source": [
    "clf = GridSearchCV(DecisionTreeClassifier(), tree_para, cv=5)"
   ]
  },
  {
   "cell_type": "code",
   "execution_count": null,
   "metadata": {
    "scrolled": true
   },
   "outputs": [],
   "source": [
    "clf.fit(X, Y)"
   ]
  },
  {
   "cell_type": "code",
   "execution_count": null,
   "metadata": {},
   "outputs": [],
   "source": [
    "clf.best_params_"
   ]
  },
  {
   "cell_type": "code",
   "execution_count": null,
   "metadata": {},
   "outputs": [],
   "source": [
    "#----------------------------Entropy Decision Tree--------------------------------------------------\n",
    "# perform training with entropy.\n",
    "# Decision tree with entropy\n",
    "clf_entropy = DecisionTreeClassifier(criterion=\"entropy\", random_state=100, max_depth=7, min_samples_leaf=19)\n",
    "# Performing training\n",
    "clf_entropy.fit(X_train, Y_train)\n",
    "#%%-----------------------------------------------------------------------\n",
    "# make predictions\n",
    "# predicton on test using entropy\n",
    "Y_pred_entropy = clf_entropy.predict(X_test)\n",
    "#%%-----------------------------------------------------------------------\n",
    "# calculate metrics entropy model\n",
    "print(\"\\n\")\n",
    "print(\"Results Using Entropy: \\n\")\n",
    "print(\"Classification Report: \")\n",
    "print(classification_report(Y_test,Y_pred_entropy))\n",
    "print(\"\\n\")\n",
    "print(\"Accuracy : \", accuracy_score(Y_test, Y_pred_entropy) * 100)\n",
    "print ('-'*80 + '\\n')"
   ]
  },
  {
   "cell_type": "code",
   "execution_count": null,
   "metadata": {},
   "outputs": [],
   "source": [
    "#%%-----------------------------------------------------------------------\n",
    "# confusion matrix for entropy model\n",
    "conf_matrix = confusion_matrix(Y_test, Y_pred_entropy)\n",
    "class_names = data.outcometype.unique()\n",
    "df_cm = pd.DataFrame(conf_matrix, index=class_names, columns=class_names )\n",
    "\n",
    "plt.figure(figsize=(5,5))\n",
    "hm = sns.heatmap(df_cm, cbar=False, annot=True, square=True, fmt='d', annot_kws={'size': 10},\n",
    "                 yticklabels=df_cm.columns, xticklabels=df_cm.columns)\n",
    "hm.yaxis.set_ticklabels(hm.yaxis.get_ticklabels(), rotation=0, ha='right', fontsize=8)\n",
    "hm.xaxis.set_ticklabels(hm.xaxis.get_ticklabels(), rotation=0, ha='right', fontsize=8)\n",
    "plt.ylabel('True label',fontsize=10)\n",
    "plt.xlabel('Predicted label',fontsize=10)\n",
    "plt.tight_layout()\n",
    "plt.show()"
   ]
  },
  {
   "cell_type": "code",
   "execution_count": null,
   "metadata": {
    "scrolled": true
   },
   "outputs": [],
   "source": [
    "from sklearn.tree import export_graphviz\n",
    "import webbrowser\n",
    "from sklearn.tree import DecisionTreeClassifier\n",
    "from sklearn.metrics import accuracy_score\n",
    "from sklearn.metrics import classification_report\n",
    "from sklearn.metrics import confusion_matrix\n",
    "import seaborn as sns\n",
    "import matplotlib.pyplot as plt"
   ]
  },
  {
   "cell_type": "code",
   "execution_count": null,
   "metadata": {},
   "outputs": [],
   "source": [
    "from pydotplus import graph_from_dot_data\n",
    "from sklearn.tree import export_graphviz\n",
    "import webbrowser"
   ]
  },
  {
   "cell_type": "code",
   "execution_count": null,
   "metadata": {},
   "outputs": [],
   "source": [
    "# display decision tree\n",
    "dot_data = export_graphviz(clf_entropy, filled=True, rounded=True, class_names=class_names,\n",
    "                           feature_names=data.iloc[:, :-2].columns, out_file=None)\n",
    "\n",
    "graph = graph_from_dot_data(dot_data)\n",
    "graph.write_pdf(\"decision_tree_entropy_outcome.pdf\")\n",
    "webbrowser.open_new(r'decision_tree_entropy_outcome.pdf')\n",
    "\n",
    "print ('-'*40 + 'End Console' + '-'*40 + '\\n')\n",
    "#%%-----------------------------------------------------------------------\n",
    "# display important features\n",
    "importances=clf_entropy.feature_importances_\n",
    "for k,v in sorted(zip(map(lambda x: round(x, 5), importances), train.columns), reverse=True):\n",
    "    print (v + \": \" + str(k))"
   ]
  },
  {
   "cell_type": "code",
   "execution_count": null,
   "metadata": {},
   "outputs": [],
   "source": [
    "# display important features\n",
    "importances=clf_entropy.feature_importances_\n",
    "for k,v in sorted(zip(map(lambda x: round(x, 5), importances), train.columns), reverse=True):\n",
    "    print (v + \": \" + str(k)"
   ]
  }
 ],
 "metadata": {
  "kernelspec": {
   "display_name": "Python 3",
   "language": "python",
   "name": "python3"
  },
  "language_info": {
   "codemirror_mode": {
    "name": "ipython",
    "version": 3
   },
   "file_extension": ".py",
   "mimetype": "text/x-python",
   "name": "python",
   "nbconvert_exporter": "python",
   "pygments_lexer": "ipython3",
   "version": "3.7.1"
  }
 },
 "nbformat": 4,
 "nbformat_minor": 2
}
