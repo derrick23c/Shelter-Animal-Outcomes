{
 "cells": [
  {
   "cell_type": "code",
   "execution_count": null,
   "metadata": {},
   "outputs": [],
   "source": [
    "import numpy as np\n",
    "import pandas as pd\n",
    "import matplotlib.pyplot as plt\n",
    "from sklearn.preprocessing import StandardScaler\n",
    "from sklearn.preprocessing import MinMaxScaler\n",
    "from sklearn.preprocessing import LabelEncoder\n",
    "from sklearn.preprocessing import OneHotEncoder\n",
    "\n",
    "#--------------------------------------------------------------------------OutcomeG part--------------------------------------------------------------------------\n",
    "train=pd.read_csv(\"/Users/derri/Onedrive/ml/train2_outcomeG.csv\")\n",
    "train=train.drop(columns=['AnimalID','Aggressive', 'At Vet', 'Barn', 'Behavior',\n",
    "       'Court/Investigation', 'Enroute', 'Foster', 'In Foster', 'In Kennel',\n",
    "       'In Surgery', 'Medical', 'Offsite', 'Partner', 'Rabies Risk', 'SCRP',\n",
    "       'Suffering','BreedName','color','agenumber', 'ageperiod', 'age','outcome'])\n",
    "\n",
    "from sklearn.model_selection import train_test_split\n",
    "X=train.values[:,0:312]\n",
    "Y=train['Target'].values\n",
    "X_train, X_test, Y_train, Y_test = train_test_split(X, Y, test_size=0.3, random_state=0)\n",
    "\n",
    "\n",
    "from sklearn.tree import DecisionTreeClassifier\n",
    "from sklearn.metrics import accuracy_score\n",
    "from sklearn.metrics import classification_report\n",
    "from sklearn.metrics import confusion_matrix\n",
    "import seaborn as sns\n",
    "import matplotlib.pyplot as plt\n"
   ]
  },
  {
   "cell_type": "code",
   "execution_count": null,
   "metadata": {},
   "outputs": [],
   "source": [
    "#---------------------------Grid Search---------------------------------------------------\n",
    "from sklearn.model_selection import GridSearchCV\n",
    "tree_para = {'criterion':['gini','entropy'],'max_depth':[1,2,3,4,5,6,7,8,9,10,11,12,15,20,30,40,50,70,80,90,100,110,120,130,140,150],\n",
    "             'min_samples_leaf':[1,2,3,4,5,6,7,8,9,10,11,12,13,14,15,16,17,19,20]}\n",
    "clf = GridSearchCV(DecisionTreeClassifier(), tree_para, cv=5)\n",
    "clf.fit(X, Y)\n",
    "clf.best_params_\n",
    "# the best criterion is entropy, max_depth=15, min_samples_leaf=11"
   ]
  },
  {
   "cell_type": "code",
   "execution_count": null,
   "metadata": {},
   "outputs": [],
   "source": [
    "#-----------------------------------------Entropy Decision Tree-------------------------------\n",
    "# perform training with entropy.\n",
    "# Decision tree with entropy\n",
    "clf_entropy = DecisionTreeClassifier(criterion=\"entropy\", random_state=100, max_depth=15, min_samples_leaf=11)\n",
    "# Performing training\n",
    "clf_entropy.fit(X_train, Y_train)\n",
    "#%%-----------------------------------------------------------------------\n",
    "# make predictions\n",
    "# predicton on test using entropy\n",
    "Y_pred_entropy = clf_entropy.predict(X_test)\n",
    "#%%-----------------------------------------------------------------------\n",
    "# calculate metrics entropy model\n",
    "print(\"\\n\")\n",
    "print(\"Results Using Entropy: \\n\")\n",
    "print(\"Classification Report: \")\n",
    "print(classification_report(Y_test,Y_pred_entropy))\n",
    "print(\"\\n\")\n",
    "print(\"Accuracy : \", accuracy_score(Y_test, Y_pred_entropy) * 100)\n",
    "print ('-'*80 + '\\n')\n",
    "#%%-----------------------------------------------------------------------\n",
    "# confusion matrix for entropy model\n",
    "conf_matrix = confusion_matrix(Y_test, Y_pred_entropy)\n",
    "class_names = train.target.unique()\n",
    "df_cm = pd.DataFrame(conf_matrix, index=class_names, columns=class_names )\n",
    "\n",
    "plt.figure(figsize=(5,5))\n",
    "hm = sns.heatmap(df_cm, cbar=False, annot=True, square=True, fmt='d', annot_kws={'size': 20},\n",
    "                 yticklabels=df_cm.columns, xticklabels=df_cm.columns)\n",
    "hm.yaxis.set_ticklabels(hm.yaxis.get_ticklabels(), rotation=0, ha='right', fontsize=20)\n",
    "hm.xaxis.set_ticklabels(hm.xaxis.get_ticklabels(), rotation=0, ha='right', fontsize=20)\n",
    "plt.ylabel('True label',fontsize=20)\n",
    "plt.xlabel('Predicted label',fontsize=20)\n",
    "plt.tight_layout()\n",
    "plt.show()"
   ]
  },
  {
   "cell_type": "code",
   "execution_count": null,
   "metadata": {},
   "outputs": [],
   "source": [
    "# display decision tree\n",
    "from pydotplus import graph_from_dot_data\n",
    "from sklearn.tree import export_graphviz\n",
    "import webbrowser"
   ]
  },
  {
   "cell_type": "code",
   "execution_count": null,
   "metadata": {},
   "outputs": [],
   "source": [
    "from IPython.display import Image"
   ]
  },
  {
   "cell_type": "code",
   "execution_count": null,
   "metadata": {},
   "outputs": [],
   "source": [
    "dot_data = export_graphviz(clf_entropy, filled=True, rounded=True, class_names=class_names,\n",
    "                           feature_names=train.iloc[:, :-2].columns, out_file=None)\n",
    "\n",
    "graph = graph_from_dot_data(dot_data)\n",
    "Image(graph.create_png())"
   ]
  },
  {
   "cell_type": "code",
   "execution_count": null,
   "metadata": {},
   "outputs": [],
   "source": [
    "# display important features\n",
    "importances=clf_entropy.feature_importances_\n",
    "for k,v in sorted(zip(map(lambda x: round(x, 5), importances), train.columns), reverse=True):\n",
    "    print (v + \": \" + str(k))\n",
    "\n",
    "from sklearn.metrics import roc_curve,auc\n",
    "\n",
    "predictions = clf_entropy.predict_proba(X_test)\n",
    "false_positive_rate, true_positive_rate, _ = roc_curve(Y_test, predictions[:,1])\n",
    "roc_auc = auc(false_positive_rate, true_positive_rate)\n",
    "\n",
    "plt.title('Receiver Operating Characteristic')\n",
    "plt.plot(false_positive_rate, true_positive_rate, 'b',\n",
    "label='AUC = %0.2f'% roc_auc)\n",
    "plt.legend(loc='lower right')\n",
    "plt.plot([0,1],[0,1],'r--')\n",
    "plt.xlim([-0.1,1.2])\n",
    "plt.ylim([-0.1,1.2])\n",
    "plt.ylabel('True Positive Rate')\n",
    "plt.xlabel('False Positive Rate')\n",
    "plt.show()"
   ]
  },
  {
   "cell_type": "code",
   "execution_count": null,
   "metadata": {},
   "outputs": [],
   "source": []
  }
 ],
 "metadata": {
  "kernelspec": {
   "display_name": "Python 3",
   "language": "python",
   "name": "python3"
  },
  "language_info": {
   "codemirror_mode": {
    "name": "ipython",
    "version": 3
   },
   "file_extension": ".py",
   "mimetype": "text/x-python",
   "name": "python",
   "nbconvert_exporter": "python",
   "pygments_lexer": "ipython3",
   "version": "3.7.1"
  }
 },
 "nbformat": 4,
 "nbformat_minor": 2
}
