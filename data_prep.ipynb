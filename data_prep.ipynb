{
 "cells": [
  {
   "cell_type": "code",
   "execution_count": 16,
   "metadata": {},
   "outputs": [],
   "source": [
    "import numpy as np\n",
    "import pandas as pd\n",
    "import matplotlib.pyplot as plt\n",
    "from sklearn.preprocessing import StandardScaler\n",
    "from sklearn.preprocessing import MinMaxScaler\n",
    "from sklearn.preprocessing import LabelEncoder\n",
    "from sklearn.preprocessing import OneHotEncoder\n",
    "import tensorflow"
   ]
  },
  {
   "cell_type": "code",
   "execution_count": 17,
   "metadata": {},
   "outputs": [],
   "source": [
    "#----------------------------------------label encoding------------------------------------------------------------------------------\n",
    "data = pd.read_csv(\"/Users/derri/Onedrive/ml/train.csv\")\n",
    "sf = pd.Categorical(data.SexuponOutcome)\n",
    "sf #we can see that there are five categories \n",
    "sex_mapping={\"Intact Male\":\"0\",\"Neutered Male\":\"0\",\"Intact Female\":\"1\",\"Spayed Female\":\"1\",\"Unknown\":\"2\"} \n",
    "data[\"sex\"]=\"1\" #create a new feature, sex \n",
    "data.sex=data.SexuponOutcome.map(sex_mapping)\n",
    "fertility_mapping={\"Intact Male\":\"0\",\"Intact Female\":\"0\",\"Neutered Male\":\"1\",\"Spayed Female\":\"1\",\"Unknown\":\"2\"}\n",
    "data[\"fertility\"]=\"1\" #create a new feature, fertility\n",
    "data.fertility=data.SexuponOutcome.map(fertility_mapping)\n",
    "\n",
    "color=pd.Categorical(data.Color) \n",
    "color #there are 366 colors\n",
    "data[\"MixColor\"]=pd.Series(data.Color.str.contains('/')).astype('int') #create a new feature, MixColor: if mix, then 1, otherwise, 0\n",
    "data[\"color\"]=data.Color.str.split(\"/\")\n",
    "data.color=[data.color[i][0] for i in range(len(data.color))]\n",
    "\n",
    "ColorCounts=data.color.value_counts()\n",
    "color_mapping={\"Black\": \"0\" , \"White\":\"1\", \"Brown Tabby\": \"2\" , \"Brown\": \"3\" , \"Tan\": \"4\" , \"Orange Tabby\": \"5\" ,\n",
    "               \"Blue\": \"6\" ,\"Tricolor\": \"7\" ,\"Red\": \"8\" , \"Brown Brindle\": \"9\" , \"Blue Tabby\": \"10\" ,\n",
    "               \"Tortie\":\"11\", \"Calico\": \"12\",\"Chocolate\": \"13\" , \"Torbie\":\"14\", \"Sable\": \"15\" ,\n",
    "               \"Cream Tabby\": \"16\", \"Buff\":\"17\", \"Yellow\": \"18\" , \"Gray\": \"19\" ,\"Cream\":\"20\",\n",
    "               \"Fawn\": \"21\", \"Lynx Point\": \"22\" , \"Blue Merle\": \"23\" , \"Seal Point\": \"24\" ,\"Black Brindle\": \"25\" ,\n",
    "               \"Flame Point\":\"26\" , \"Gold\": \"27\", \"Brown Merle\": \"28\" , \"Black Smoke\": \"29\" ,\"Black Tabby\":\"30\" ,\n",
    "               \"Silver\": \"31\" , \"Red Merle\": \"32\" , \"Gray Tabby\": \"33\", \"Blue Tick\": \"34\" ,\"Orange\": \"35\",\n",
    "               \"Silver Tabby\": \"36\" , \"Red Tick\": \"37\", \"Lilac Point\": \"38\" , \"Tortie Point\": \"39\",\"Yellow Brindle\": \"40\" ,\n",
    "               \"Blue Point\": \"41\" , \"Calico Point\": \"42\" , \"Apricot\": \"43\",\"Chocolate Point\": \"44\" , \"Blue Cream\": \"45\" ,\n",
    "               \"Liver\": \"46\" , \"Blue Tiger\": \"47\" , \"Blue Smoke\": \"48\",\"Liver Tick\": \"49\", \"Brown Tiger\": \"50\" ,\n",
    "               \"Black Tiger\": \"51\" , \"Agouti\": \"52\" , \"Silver Lynx Point\": \"53\", \"Orange Tiger\": \"54\", \"Ruddy\": \"55\" , \"Pink\": \"56\"}\n",
    "#create a new feature: colorC, what is the encoding color\n",
    "data[\"colorC\"]=\"1\"\n",
    "data.colorC=data.color.map(color_mapping)"
   ]
  },
  {
   "cell_type": "code",
   "execution_count": 18,
   "metadata": {},
   "outputs": [],
   "source": [
    "data.AgeuponOutcome.value_counts()\n",
    "data[\"agenumber\"]=data.AgeuponOutcome.str.split(expand=True)[0].astype(\"float\")\n",
    "data[\"ageperiod\"]=data.AgeuponOutcome.str.split(expand=True)[1]\n",
    "\n",
    "#create a new feature, age, age by day\n",
    "ageD=[]\n",
    "for i in range(len(data.AnimalID)):\n",
    "    if data.ageperiod[i]==\"day\" or data.ageperiod[i]==\"days\":\n",
    "        ageD.append(1*data.agenumber[i])\n",
    "    elif data.ageperiod[i]==\"week\" or data.ageperiod[i]==\"weeks\":\n",
    "        ageD.append(7*data.agenumber[i])\n",
    "    elif data.ageperiod[i]==\"month\" or data.ageperiod[i]==\"months\":\n",
    "        ageD.append(30*data.agenumber[i])\n",
    "    elif data.ageperiod[i]==\"year\" or data.ageperiod[i]==\"years\":\n",
    "        ageD.append(365*data.agenumber[i])\n",
    "    else: ageD.append(\"NaN\")\n",
    "data[\"ageD\"]=ageD\n",
    "\n",
    "ageY=[]#create a new feature, ageY, that is the age classifier\n",
    "for i in range(len(data.AnimalID)):\n",
    "    if data.ageperiod[i]==\"year\" or data.ageperiod[i]==\"years\":\n",
    "        ageY.append(data.agenumber[i].astype(\"int\"))\n",
    "    elif data.ageD[i]==\"NaN\":\n",
    "        ageY.append(\"NaN\")\n",
    "    else: ageY.append(0)\n",
    "data[\"ageY\"]=ageY"
   ]
  },
  {
   "cell_type": "code",
   "execution_count": 19,
   "metadata": {},
   "outputs": [],
   "source": [
    "data[\"MainBreed\"]=data.Breed.str.split(\"/\") #create a new variable, MainBreed\n",
    "data.MainBreed=[data.MainBreed[i][0] for i in range(len(data.MainBreed))]\n",
    "\n",
    "#create a new variable, MixBreed \n",
    "data[\"MixBreed\"]=pd.Series(data.Breed.str.contains('Mix')|data.Breed.str.contains('/')).astype(\"int\") \n",
    "class_le = LabelEncoder() \n",
    "data.MainBreed = class_le.fit_transform(data.MainBreed)#fit and transform the class  \n",
    "# dog:1 cat:2 \n",
    "animal_mapping={\"Dog\":\"1\",\"Cat\":\"2\"} #create a new feature, animal \n",
    "data[\"animal\"]=\"1\" \n",
    "data.animal=data.AnimalType.map(animal_mapping)  #create a new feature, HaveName \n",
    "data[\"NameC\"]=abs(pd.Series(data.Name.isnull()).astype(\"int\")-1)\n",
    "\n",
    "data.OutcomeType.value_counts()\n",
    "outcometype_mapping={\"Adoption\":\"0\",\"Transfer\":\"1\",\"Return_to_owner\":\"2\",\"Euthanasia\":\"3\",\"Died\":\"4\"}\n",
    "#create a new target: outcome\n",
    "data[\"outcome\"]=\"1\"\n",
    "data.outcome=data.OutcomeType.map(outcometype_mapping)"
   ]
  },
  {
   "cell_type": "code",
   "execution_count": 10,
   "metadata": {},
   "outputs": [],
   "source": [
    "list = data[(data.ageD==\"NaN\")].index.tolist()\n",
    "data = data.drop(list) #remove 18 rows\n",
    "\n",
    "data.sex = data.sex.fillna('nan')\n",
    "list = data[(data.sex=='nan')].index.tolist()\n",
    "data = data.drop(list) #remove 1 row\n",
    "data.to_csv(\"c\")"
   ]
  },
  {
   "cell_type": "code",
   "execution_count": 22,
   "metadata": {},
   "outputs": [],
   "source": [
    "data1 = pd.read_csv(\"/Users/derri/Onedrive/ml/train1.csv\")\n",
    "data1.columns\n",
    "data1_copy = data1.copy(deep=True)\n",
    "data1_copy = data1_copy.drop(columns=[ 'sex', 'fertility',\n",
    "       'MixColor', 'colorC',  'ageY',\n",
    "       'MixBreed', 'animal', 'NameC','MainBreedMix','Main Breed'])\n",
    "\n",
    "data1 = data1.drop(columns=['Aggressive', 'At Vet', 'Barn', 'Behavior',\n",
    "       'Court/Investigation', 'Enroute', 'Foster', 'In Foster', 'In Kennel',\n",
    "       'In Surgery', 'Medical', 'Offsite', 'Partner', 'Rabies Risk', 'SCRP',\n",
    "       'Suffering','BreedName','color','agenumber', 'ageperiod', 'ageD','outcome','outcomeG','MainBreedMix'])\n",
    "\n",
    "data1.iloc[:,1:10] = data1.iloc[:,1:10].astype(\"int\")\n",
    "data1.iloc[:,1:10] = data1.iloc[:,1:10].astype(\"object\")\n",
    "data1_onehot = pd.get_dummies(data1.iloc[:,1:10])\n",
    "data1_onehot[\"AnimalID\"] = data1[\"AnimalID\"]\n",
    "data1 = pd.merge(data1_onehot, data1_copy, on='AnimalID',how='outer')\n",
    "data1.outcome = data1.outcome.astype(\"int\")\n",
    "data1.outcome = data1.outcome.astype(\"object\")\n",
    "data1.outcomeG = data1.outcomeG.astype(\"int\")\n",
    "data1.outcomeG = data1.outcomeG.astype(\"object\")\n",
    "data1.to_csv(\"/Users/derri/Onedrive/ml/train2.csv\")"
   ]
  },
  {
   "cell_type": "code",
   "execution_count": null,
   "metadata": {},
   "outputs": [],
   "source": []
  },
  {
   "cell_type": "code",
   "execution_count": null,
   "metadata": {},
   "outputs": [],
   "source": []
  }
 ],
 "metadata": {
  "kernelspec": {
   "display_name": "Python 3",
   "language": "python",
   "name": "python3"
  },
  "language_info": {
   "codemirror_mode": {
    "name": "ipython",
    "version": 3
   },
   "file_extension": ".py",
   "mimetype": "text/x-python",
   "name": "python",
   "nbconvert_exporter": "python",
   "pygments_lexer": "ipython3",
   "version": "3.7.1"
  }
 },
 "nbformat": 4,
 "nbformat_minor": 2
}
